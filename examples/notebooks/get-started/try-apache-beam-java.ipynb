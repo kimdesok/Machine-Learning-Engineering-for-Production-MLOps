{
  "nbformat": 4,
  "nbformat_minor": 0,
  "metadata": {
    "colab": {
      "name": "Try Apache Beam - Java",
      "provenance": [],
      "collapsed_sections": [],
      "include_colab_link": true
    },
    "kernelspec": {
      "name": "python3",
      "display_name": "Python 3"
    }
  },
  "cells": [
    {
      "cell_type": "markdown",
      "metadata": {
        "id": "view-in-github",
        "colab_type": "text"
      },
      "source": [
        "<a href=\"https://colab.research.google.com/github/kimdesok/Machine-Learning-Engineering-for-Production-MLOps/blob/main/examples/notebooks/get-started/try-apache-beam-java.ipynb\" target=\"_parent\"><img src=\"https://colab.research.google.com/assets/colab-badge.svg\" alt=\"Open In Colab\"/></a>"
      ]
    },
    {
      "metadata": {
        "id": "lNKIMlEDZ_Vw"
      },
      "cell_type": "markdown",
      "source": [
        "# Try Apache Beam - Java\n",
        "\n",
        "In this notebook, we set up a Java development environment and work through a simple example using the [DirectRunner](https://beam.apache.org/documentation/runners/direct/). You can explore other runners with the [Beam Capatibility Matrix](https://beam.apache.org/documentation/runners/capability-matrix/).\n",
        "\n",
        "To navigate through different sections, use the table of contents. From **View**  drop-down list, select **Table of contents**.\n",
        "\n",
        "To run a code cell, you can click the **Run cell** button at the top left of the cell, or by select it and press **`Shift+Enter`**. Try modifying a code cell and re-running it to see what happens.\n",
        "\n",
        "To learn more about Colab, see [Welcome to Colaboratory!](https://colab.sandbox.google.com/notebooks/welcome.ipynb)."
      ]
    },
    {
      "metadata": {
        "id": "Fz6KSQ13_3Rr"
      },
      "cell_type": "markdown",
      "source": [
        "# Setup\n",
        "\n",
        "First, you need to set up your environment."
      ]
    },
    {
      "metadata": {
        "id": "GOOk81Jj_yUy",
        "outputId": "66c2ff9c-d4c4-4a02-ce44-406f24163973",
        "colab": {
          "base_uri": "https://localhost:8080/"
        }
      },
      "cell_type": "code",
      "source": [
        "# Run and print a shell command.\n",
        "def run(cmd):\n",
        "  print('>> {}'.format(cmd))\n",
        "  !{cmd}  # This is magic to run 'cmd' in the shell.\n",
        "  print('')\n",
        "\n",
        "# Copy the input file into the local filesystem.\n",
        "run('mkdir -p data')\n",
        "run('gsutil cp gs://dataflow-samples/shakespeare/kinglear.txt data/')"
      ],
      "execution_count": 1,
      "outputs": [
        {
          "output_type": "stream",
          "name": "stdout",
          "text": [
            ">> mkdir -p data\n",
            "\n",
            ">> gsutil cp gs://dataflow-samples/shakespeare/kinglear.txt data/\n",
            "Copying gs://dataflow-samples/shakespeare/kinglear.txt...\n",
            "/ [1 files][153.6 KiB/153.6 KiB]                                                \n",
            "Operation completed over 1 objects/153.6 KiB.                                    \n",
            "\n"
          ]
        }
      ]
    },
    {
      "metadata": {
        "id": "Hmto8JTSWwUK"
      },
      "cell_type": "markdown",
      "source": [
        "## Installing development tools\n",
        "\n",
        "Let's start by installing Java. We'll use the `default-jdk`, which uses [OpenJDK](https://openjdk.java.net/). This will take a while, so feel free to go for a walk or do some stretching.\n",
        "\n",
        "**Note:** Alternatively, you could install the propietary [Oracle JDK](https://www.oracle.com/technetwork/java/javase/downloads/index.html) instead."
      ]
    },
    {
      "metadata": {
        "id": "ONYtX0doWpFz",
        "outputId": "a55700d7-7ad0-4641-bfbc-7338fb3d7de6",
        "colab": {
          "base_uri": "https://localhost:8080/"
        }
      },
      "cell_type": "code",
      "source": [
        "# Update and upgrade the system before installing anything else.\n",
        "run('apt-get update > /dev/null')\n",
        "run('apt-get upgrade > /dev/null')\n",
        "\n",
        "# Install the Java JDK.\n",
        "run('apt-get install default-jdk > /dev/null')\n",
        "\n",
        "# Check the Java version to see if everything is working well.\n",
        "run('javac -version')"
      ],
      "execution_count": 2,
      "outputs": [
        {
          "output_type": "stream",
          "name": "stdout",
          "text": [
            ">> apt-get update > /dev/null\n",
            "\n",
            ">> apt-get upgrade > /dev/null\n",
            "Extracting templates from packages: 100%\n",
            "\n",
            ">> apt-get install default-jdk > /dev/null\n",
            "\n",
            ">> javac -version\n",
            "javac 11.0.13\n",
            "\n"
          ]
        }
      ]
    },
    {
      "metadata": {
        "id": "Wab7H4IZW9xZ"
      },
      "cell_type": "markdown",
      "source": [
        "Now, let's install [Gradle](https://gradle.org/), which we'll need to automate the build and running processes for our application. \n",
        "\n",
        "**Note:** Alternatively, you could install and configure [Maven](https://maven.apache.org/) instead."
      ]
    },
    {
      "metadata": {
        "id": "xS3Oeu3DW7vy",
        "outputId": "23bf0bfa-224d-48e1-9bc1-7cdbb2c9f93e",
        "colab": {
          "base_uri": "https://localhost:8080/"
        }
      },
      "cell_type": "code",
      "source": [
        "import os\n",
        "\n",
        "# Download the gradle source.\n",
        "gradle_version = 'gradle-5.0'\n",
        "gradle_path = f\"/opt/{gradle_version}\"\n",
        "if not os.path.exists(gradle_path):\n",
        "  run(f\"wget -q -nc -O gradle.zip https://services.gradle.org/distributions/{gradle_version}-bin.zip\")\n",
        "  run('unzip -q -d /opt gradle.zip')\n",
        "  run('rm -f gradle.zip')\n",
        "\n",
        "# We're choosing to use the absolute path instead of adding it to the $PATH environment variable.\n",
        "def gradle(args):\n",
        "  run(f\"{gradle_path}/bin/gradle --console=plain {args}\")\n",
        "\n",
        "gradle('-v')"
      ],
      "execution_count": 3,
      "outputs": [
        {
          "output_type": "stream",
          "name": "stdout",
          "text": [
            ">> wget -q -nc -O gradle.zip https://services.gradle.org/distributions/gradle-5.0-bin.zip\n",
            "\n",
            ">> unzip -q -d /opt gradle.zip\n",
            "\n",
            ">> rm -f gradle.zip\n",
            "\n",
            ">> /opt/gradle-5.0/bin/gradle --console=plain -v\n",
            "\u001b[m\n",
            "Welcome to Gradle 5.0!\n",
            "\n",
            "Here are the highlights of this release:\n",
            " - Kotlin DSL 1.0\n",
            " - Task timeouts\n",
            " - Dependency alignment aka BOM support\n",
            " - Interactive `gradle init`\n",
            "\n",
            "For more details see https://docs.gradle.org/5.0/release-notes.html\n",
            "\n",
            "\n",
            "------------------------------------------------------------\n",
            "Gradle 5.0\n",
            "------------------------------------------------------------\n",
            "\n",
            "Build time:   2018-11-26 11:48:43 UTC\n",
            "Revision:     7fc6e5abf2fc5fe0824aec8a0f5462664dbcd987\n",
            "\n",
            "Kotlin DSL:   1.0.4\n",
            "Kotlin:       1.3.10\n",
            "Groovy:       2.5.4\n",
            "Ant:          Apache Ant(TM) version 1.9.13 compiled on July 10 2018\n",
            "JVM:          11.0.13 (Ubuntu 11.0.13+8-Ubuntu-0ubuntu1.18.04)\n",
            "OS:           Linux 5.4.144+ amd64\n",
            "\n",
            "\u001b[m\n"
          ]
        }
      ]
    },
    {
      "metadata": {
        "id": "YTkkapX9KVhA"
      },
      "cell_type": "markdown",
      "source": [
        "## build.gradle\n",
        "\n",
        "We'll also need a [`build.gradle`](https://guides.gradle.org/creating-new-gradle-builds/) file which will allow us to invoke some useful commands."
      ]
    },
    {
      "metadata": {
        "id": "oUqfqWyMuIfR",
        "outputId": "09cab118-0656-4e60-c616-b94442d308fd",
        "colab": {
          "base_uri": "https://localhost:8080/"
        }
      },
      "cell_type": "code",
      "source": [
        "%%writefile build.gradle\n",
        "\n",
        "plugins {\n",
        "  // id 'idea'     // Uncomment for IntelliJ IDE\n",
        "  // id 'eclipse'  // Uncomment for Eclipse IDE\n",
        "\n",
        "  // Apply java plugin and make it a runnable application.\n",
        "  id 'java'\n",
        "  id 'application'\n",
        "\n",
        "  // 'shadow' allows us to embed all the dependencies into a fat jar.\n",
        "  id 'com.github.johnrengelman.shadow' version '4.0.3'\n",
        "}\n",
        "\n",
        "// This is the path of the main class, stored within ./src/main/java/\n",
        "mainClassName = 'samples.quickstart.WordCount'\n",
        "\n",
        "// Declare the sources from which to fetch dependencies.\n",
        "repositories {\n",
        "  mavenCentral()\n",
        "}\n",
        "\n",
        "// Java version compatibility.\n",
        "sourceCompatibility = 1.8\n",
        "targetCompatibility = 1.8\n",
        "\n",
        "// Use the latest Apache Beam major version 2.\n",
        "// You can also lock into a minor version like '2.9.+'.\n",
        "ext.apacheBeamVersion = '2.+'\n",
        "\n",
        "// Declare the dependencies of the project.\n",
        "dependencies {\n",
        "  shadow \"org.apache.beam:beam-sdks-java-core:$apacheBeamVersion\"\n",
        "\n",
        "  runtime \"org.apache.beam:beam-runners-direct-java:$apacheBeamVersion\"\n",
        "  runtime \"org.slf4j:slf4j-api:1.+\"\n",
        "  runtime \"org.slf4j:slf4j-jdk14:1.+\"\n",
        "\n",
        "  testCompile \"junit:junit:4.+\"\n",
        "}\n",
        "\n",
        "// Configure 'shadowJar' instead of 'jar' to set up the fat jar.\n",
        "shadowJar {\n",
        "  baseName = 'WordCount'  // Name of the fat jar file.\n",
        "  classifier = null       // Set to null, otherwise 'shadow' appends a '-all' to the jar file name.\n",
        "  manifest {\n",
        "    attributes('Main-Class': mainClassName)  // Specify where the main class resides.\n",
        "  }\n",
        "}"
      ],
      "execution_count": 4,
      "outputs": [
        {
          "output_type": "stream",
          "name": "stdout",
          "text": [
            "Writing build.gradle\n"
          ]
        }
      ]
    },
    {
      "metadata": {
        "id": "cwZcqmFgoLJ9"
      },
      "cell_type": "markdown",
      "source": [
        "## Creating the directory structure\n",
        "\n",
        "Java and Gradle expect a specific [directory structure](https://docs.gradle.org/current/userguide/organizing_gradle_projects.html). This helps organize large projects into a standard structure.\n",
        "\n",
        "For now, we only need a place where our quickstart code will reside. That has to go within `./src/main/java/`."
      ]
    },
    {
      "metadata": {
        "id": "Mr1KTQznbd9F",
        "outputId": "7c30d077-042b-4807-f776-bba8e415bab5",
        "colab": {
          "base_uri": "https://localhost:8080/"
        }
      },
      "cell_type": "code",
      "source": [
        "run('mkdir -p src/main/java/samples/quickstart')"
      ],
      "execution_count": 5,
      "outputs": [
        {
          "output_type": "stream",
          "name": "stdout",
          "text": [
            ">> mkdir -p src/main/java/samples/quickstart\n",
            "\n"
          ]
        }
      ]
    },
    {
      "metadata": {
        "id": "cPvvFB19uXNw"
      },
      "cell_type": "markdown",
      "source": [
        "# Minimal word count\n",
        "\n",
        "The following example is the \"Hello, World!\" of data processing, a basic implementation of word count. We're creating a simple data processing pipeline that reads a text file and counts the number of occurrences of every word.\n",
        "\n",
        "There are many scenarios where all the data does not fit in memory. Notice that the outputs of the pipeline go to the file system, which allows for large processing jobs in distributed environments."
      ]
    },
    {
      "metadata": {
        "id": "Fl3iUat7KYIE"
      },
      "cell_type": "markdown",
      "source": [
        "## WordCount.java"
      ]
    },
    {
      "metadata": {
        "id": "5l3S2mjMBKhT",
        "outputId": "36d22dc6-fa20-4380-d5cd-d380cefb3990",
        "colab": {
          "base_uri": "https://localhost:8080/"
        }
      },
      "cell_type": "code",
      "source": [
        "%%writefile src/main/java/samples/quickstart/WordCount.java\n",
        "\n",
        "package samples.quickstart;\n",
        "\n",
        "import org.apache.beam.sdk.Pipeline;\n",
        "import org.apache.beam.sdk.io.TextIO;\n",
        "import org.apache.beam.sdk.options.PipelineOptions;\n",
        "import org.apache.beam.sdk.options.PipelineOptionsFactory;\n",
        "import org.apache.beam.sdk.transforms.Count;\n",
        "import org.apache.beam.sdk.transforms.Filter;\n",
        "import org.apache.beam.sdk.transforms.FlatMapElements;\n",
        "import org.apache.beam.sdk.transforms.MapElements;\n",
        "import org.apache.beam.sdk.values.KV;\n",
        "import org.apache.beam.sdk.values.TypeDescriptors;\n",
        "\n",
        "import java.util.Arrays;\n",
        "\n",
        "public class WordCount {\n",
        "  public static void main(String[] args) {\n",
        "    String inputsDir = \"data/*\";\n",
        "    String outputsPrefix = \"outputs/part\";\n",
        "\n",
        "    PipelineOptions options = PipelineOptionsFactory.fromArgs(args).create();\n",
        "    Pipeline pipeline = Pipeline.create(options);\n",
        "    pipeline\n",
        "        .apply(\"Read lines\", TextIO.read().from(inputsDir))\n",
        "        .apply(\"Find words\", FlatMapElements.into(TypeDescriptors.strings())\n",
        "            .via((String line) -> Arrays.asList(line.split(\"[^\\\\p{L}]+\"))))\n",
        "        .apply(\"Filter empty words\", Filter.by((String word) -> !word.isEmpty()))\n",
        "        .apply(\"Count words\", Count.perElement())\n",
        "        .apply(\"Write results\", MapElements.into(TypeDescriptors.strings())\n",
        "            .via((KV<String, Long> wordCount) ->\n",
        "                  wordCount.getKey() + \": \" + wordCount.getValue()))\n",
        "        .apply(TextIO.write().to(outputsPrefix));\n",
        "    pipeline.run();\n",
        "  }\n",
        "}"
      ],
      "execution_count": 6,
      "outputs": [
        {
          "output_type": "stream",
          "name": "stdout",
          "text": [
            "Writing src/main/java/samples/quickstart/WordCount.java\n"
          ]
        }
      ]
    },
    {
      "metadata": {
        "id": "yoO4xHnaKiz9"
      },
      "cell_type": "markdown",
      "source": [
        "## Build and run"
      ]
    },
    {
      "metadata": {
        "id": "giJMbbcq2OPu"
      },
      "cell_type": "markdown",
      "source": [
        "Let's first check how the final file system structure looks like. These are all the files required to build and run our application.\n",
        "\n",
        "* `build.gradle` - build configuration for Gradle\n",
        "* `src/main/java/samples/quickstart/WordCount.java` - application source code\n",
        "* `data/kinglear.txt` - input data, this could be any file or files\n",
        "\n",
        "We are now ready to build the application using `gradle build`."
      ]
    },
    {
      "metadata": {
        "id": "urmCmtG08F-0",
        "outputId": "28cec805-e8bc-468e-9c96-7f7dfa7c369d",
        "colab": {
          "base_uri": "https://localhost:8080/"
        }
      },
      "cell_type": "code",
      "source": [
        "# Build the project.\n",
        "gradle('build')\n",
        "\n",
        "# Check the generated build files.\n",
        "run('ls -lh build/libs/')"
      ],
      "execution_count": 7,
      "outputs": [
        {
          "output_type": "stream",
          "name": "stdout",
          "text": [
            ">> /opt/gradle-5.0/bin/gradle --console=plain build\n",
            "\u001b[mStarting a Gradle Daemon (subsequent builds will be faster)\n",
            "> Task :compileJava\n",
            "> Task :processResources NO-SOURCE\n",
            "> Task :classes\n",
            "> Task :jar\n",
            "> Task :startScripts\n",
            "> Task :distTar\n",
            "> Task :distZip\n",
            "> Task :shadowJar\n",
            "> Task :startShadowScripts\n",
            "> Task :shadowDistTar\n",
            "> Task :shadowDistZip\n",
            "> Task :assemble\n",
            "> Task :compileTestJava NO-SOURCE\n",
            "> Task :processTestResources NO-SOURCE\n",
            "> Task :testClasses UP-TO-DATE\n",
            "> Task :test NO-SOURCE\n",
            "> Task :check UP-TO-DATE\n",
            "> Task :build\n",
            "\n",
            "BUILD SUCCESSFUL in 54s\n",
            "9 actionable tasks: 9 executed\n",
            "\u001b[m\n",
            ">> ls -lh build/libs/\n",
            "total 43M\n",
            "-rw-r--r-- 1 root root 2.9K Dec 22 07:16 content.jar\n",
            "-rw-r--r-- 1 root root  43M Dec 22 07:16 WordCount.jar\n",
            "\n"
          ]
        }
      ]
    },
    {
      "metadata": {
        "id": "LrRFNZHD8dtu"
      },
      "cell_type": "markdown",
      "source": [
        "There are two files generated:\n",
        "* The `content.jar` file, the application generated from the regular `build` command. It's only a few kilobytes in size.\n",
        "* The `WordCount.jar` file, with the `baseName` we specified in the `shadowJar` section of the `gradle.build` file. It's a several megabytes in size, with all the required libraries it needs to run embedded in it.\n",
        "\n",
        "The file we're actually interested in is the fat JAR file `WordCount.jar`. To run the fat JAR, we'll use the `gradle runShadow` command."
      ]
    },
    {
      "metadata": {
        "id": "CgTXBdTsBn1F",
        "outputId": "93f3d548-18f3-4623-e4e4-18e48666ac13",
        "colab": {
          "base_uri": "https://localhost:8080/"
        }
      },
      "cell_type": "code",
      "source": [
        "# Run the shadow (fat jar) build.\n",
        "gradle('runShadow')\n",
        "\n",
        "# Sample the first 20 results, remember there are no ordering guarantees.\n",
        "run('head -n 20 outputs/part-00000-of-*')"
      ],
      "execution_count": 8,
      "outputs": [
        {
          "output_type": "stream",
          "name": "stdout",
          "text": [
            ">> /opt/gradle-5.0/bin/gradle --console=plain runShadow\n",
            "\u001b[m> Task :compileJava UP-TO-DATE\n",
            "> Task :processResources NO-SOURCE\n",
            "> Task :classes UP-TO-DATE\n",
            "> Task :shadowJar UP-TO-DATE\n",
            "> Task :startShadowScripts UP-TO-DATE\n",
            "> Task :installShadowDist\n",
            "\n",
            "> Task :runShadow\n",
            "Dec 22, 2021 7:43:19 AM org.apache.beam.sdk.io.FileBasedSource getEstimatedSizeBytes\n",
            "INFO: Filepattern data/* matched 1 files with total size 157283\n",
            "Dec 22, 2021 7:43:19 AM org.apache.beam.sdk.io.FileBasedSource split\n",
            "INFO: Splitting filepattern data/* into bundles of size 52427 took 3 ms and produced 1 files and 3 bundles\n",
            "Dec 22, 2021 7:45:43 AM org.apache.beam.sdk.io.WriteFiles$WriteShardsIntoTempFilesFn processElement\n",
            "INFO: Opening writer 992db695-a73c-4794-b61f-6593aa75f401 for window org.apache.beam.sdk.transforms.windowing.GlobalWindow@4b8729ff pane PaneInfo{isFirst=true, isLast=true, timing=ON_TIME, index=0, onTimeIndex=0} destination null\n",
            "Dec 22, 2021 7:45:43 AM org.apache.beam.sdk.io.WriteFiles$WriteShardsIntoTempFilesFn processElement\n",
            "INFO: Opening writer b33ec1de-2ec4-48a2-b282-d9145554a32e for window org.apache.beam.sdk.transforms.windowing.GlobalWindow@4b8729ff pane PaneInfo{isFirst=true, isLast=true, timing=ON_TIME, index=0, onTimeIndex=0} destination null\n",
            "Dec 22, 2021 7:45:43 AM org.apache.beam.sdk.io.WriteFiles$WriteShardsIntoTempFilesFn processElement\n",
            "INFO: Opening writer 6b4a53d9-96ba-46bd-95e4-78d215508d0c for window org.apache.beam.sdk.transforms.windowing.GlobalWindow@4b8729ff pane PaneInfo{isFirst=true, isLast=true, timing=ON_TIME, index=0, onTimeIndex=0} destination null\n",
            "Dec 22, 2021 7:45:43 AM org.apache.beam.sdk.io.FileBasedSink$Writer close\n",
            "INFO: Successfully wrote temporary file /content/outputs/.temp-beam-9c7a3bdc-2347-4740-82f5-d83c546638a7/992db695-a73c-4794-b61f-6593aa75f401\n",
            "Dec 22, 2021 7:45:43 AM org.apache.beam.sdk.io.FileBasedSink$Writer close\n",
            "INFO: Successfully wrote temporary file /content/outputs/.temp-beam-9c7a3bdc-2347-4740-82f5-d83c546638a7/6b4a53d9-96ba-46bd-95e4-78d215508d0c\n",
            "Dec 22, 2021 7:45:43 AM org.apache.beam.sdk.io.WriteFiles$WriteShardsIntoTempFilesFn processElement\n",
            "INFO: Opening writer 8375c691-8c30-4b33-b25b-fa89fd369165 for window org.apache.beam.sdk.transforms.windowing.GlobalWindow@4b8729ff pane PaneInfo{isFirst=true, isLast=true, timing=ON_TIME, index=0, onTimeIndex=0} destination null\n",
            "Dec 22, 2021 7:45:43 AM org.apache.beam.sdk.io.FileBasedSink$Writer close\n",
            "INFO: Successfully wrote temporary file /content/outputs/.temp-beam-9c7a3bdc-2347-4740-82f5-d83c546638a7/b33ec1de-2ec4-48a2-b282-d9145554a32e\n",
            "Dec 22, 2021 7:45:43 AM org.apache.beam.sdk.io.FileBasedSink$Writer close\n",
            "INFO: Successfully wrote temporary file /content/outputs/.temp-beam-9c7a3bdc-2347-4740-82f5-d83c546638a7/8375c691-8c30-4b33-b25b-fa89fd369165\n",
            "Dec 22, 2021 7:45:43 AM org.apache.beam.sdk.io.WriteFiles$FinalizeTempFileBundles$FinalizeFn process\n",
            "INFO: Finalizing 4 file results\n",
            "Dec 22, 2021 7:45:43 AM org.apache.beam.sdk.io.FileBasedSink$WriteOperation createMissingEmptyShards\n",
            "INFO: Finalizing for destination null num shards 4.\n",
            "Dec 22, 2021 7:45:43 AM org.apache.beam.sdk.io.FileBasedSink$WriteOperation moveToOutputFiles\n",
            "INFO: Will copy temporary file FileResult{tempFilename=/content/outputs/.temp-beam-9c7a3bdc-2347-4740-82f5-d83c546638a7/b33ec1de-2ec4-48a2-b282-d9145554a32e, shard=2, window=org.apache.beam.sdk.transforms.windowing.GlobalWindow@4b8729ff, paneInfo=PaneInfo{isFirst=true, isLast=true, timing=ON_TIME, index=0, onTimeIndex=0}} to final location /content/outputs/part-00002-of-00004\n",
            "Dec 22, 2021 7:45:43 AM org.apache.beam.sdk.io.FileBasedSink$WriteOperation moveToOutputFiles\n",
            "INFO: Will copy temporary file FileResult{tempFilename=/content/outputs/.temp-beam-9c7a3bdc-2347-4740-82f5-d83c546638a7/8375c691-8c30-4b33-b25b-fa89fd369165, shard=3, window=org.apache.beam.sdk.transforms.windowing.GlobalWindow@4b8729ff, paneInfo=PaneInfo{isFirst=true, isLast=true, timing=ON_TIME, index=0, onTimeIndex=0}} to final location /content/outputs/part-00003-of-00004\n",
            "Dec 22, 2021 7:45:43 AM org.apache.beam.sdk.io.FileBasedSink$WriteOperation moveToOutputFiles\n",
            "INFO: Will copy temporary file FileResult{tempFilename=/content/outputs/.temp-beam-9c7a3bdc-2347-4740-82f5-d83c546638a7/992db695-a73c-4794-b61f-6593aa75f401, shard=1, window=org.apache.beam.sdk.transforms.windowing.GlobalWindow@4b8729ff, paneInfo=PaneInfo{isFirst=true, isLast=true, timing=ON_TIME, index=0, onTimeIndex=0}} to final location /content/outputs/part-00001-of-00004\n",
            "Dec 22, 2021 7:45:43 AM org.apache.beam.sdk.io.FileBasedSink$WriteOperation moveToOutputFiles\n",
            "INFO: Will copy temporary file FileResult{tempFilename=/content/outputs/.temp-beam-9c7a3bdc-2347-4740-82f5-d83c546638a7/6b4a53d9-96ba-46bd-95e4-78d215508d0c, shard=0, window=org.apache.beam.sdk.transforms.windowing.GlobalWindow@4b8729ff, paneInfo=PaneInfo{isFirst=true, isLast=true, timing=ON_TIME, index=0, onTimeIndex=0}} to final location /content/outputs/part-00000-of-00004\n",
            "Dec 22, 2021 7:45:43 AM org.apache.beam.sdk.io.FileBasedSink$WriteOperation removeTemporaryFiles\n",
            "WARNING: Failed to match temporary files under: [/content/outputs/.temp-beam-9c7a3bdc-2347-4740-82f5-d83c546638a7/].\n",
            "\n",
            "BUILD SUCCESSFUL in 2m 31s\n",
            "5 actionable tasks: 2 executed, 3 up-to-date\n",
            "\u001b[m\n",
            ">> head -n 20 outputs/part-00000-of-*\n",
            "dishonour: 1\n",
            "bluntness: 1\n",
            "destroy: 1\n",
            "teem: 1\n",
            "Could: 2\n",
            "required: 1\n",
            "inheriting: 1\n",
            "pant: 1\n",
            "bide: 1\n",
            "redress: 1\n",
            "flowers: 2\n",
            "comest: 1\n",
            "adversary: 2\n",
            "contemplation: 1\n",
            "Yields: 1\n",
            "quick: 2\n",
            "door: 3\n",
            "Yours: 1\n",
            "outlaw: 1\n",
            "Trumpets: 1\n",
            "\n"
          ]
        }
      ]
    },
    {
      "metadata": {
        "id": "T_oqlIM55MzM"
      },
      "cell_type": "markdown",
      "source": [
        "## Distributing your application\n",
        "\n",
        "We can run our fat JAR file as long as we have a Java Runtime Environment installed.\n",
        "\n",
        "To distribute, we copy the fat JAR file and run it with `java -jar`."
      ]
    },
    {
      "metadata": {
        "id": "b3YSRjYnavpd",
        "outputId": "ce3e2db3-e700-4af3-aeb8-b1c3ef1cfcd9",
        "colab": {
          "base_uri": "https://localhost:8080/"
        }
      },
      "cell_type": "code",
      "source": [
        "# You can now distribute and run your Java application as a standalone jar file.\n",
        "run('cp build/libs/WordCount.jar .')\n",
        "run('java -jar WordCount.jar')\n",
        "\n",
        "# Sample the first 20 results, remember there are no ordering guarantees.\n",
        "run('head -n 20 outputs/part-00000-of-*')"
      ],
      "execution_count": 9,
      "outputs": [
        {
          "output_type": "stream",
          "name": "stdout",
          "text": [
            ">> cp build/libs/WordCount.jar .\n",
            "\n",
            ">> java -jar WordCount.jar\n",
            "Dec 22, 2021 7:47:27 AM org.apache.beam.sdk.io.FileBasedSource getEstimatedSizeBytes\n",
            "INFO: Filepattern data/* matched 1 files with total size 157283\n",
            "Dec 22, 2021 7:47:27 AM org.apache.beam.sdk.io.FileBasedSource split\n",
            "INFO: Splitting filepattern data/* into bundles of size 52427 took 1 ms and produced 1 files and 3 bundles\n",
            "Dec 22, 2021 7:49:58 AM org.apache.beam.sdk.io.WriteFiles$WriteShardsIntoTempFilesFn processElement\n",
            "INFO: Opening writer 76d8e2a6-f9da-4474-bfde-111ecd7df187 for window org.apache.beam.sdk.transforms.windowing.GlobalWindow@1b1cfb87 pane PaneInfo{isFirst=true, isLast=true, timing=ON_TIME, index=0, onTimeIndex=0} destination null\n",
            "Dec 22, 2021 7:49:58 AM org.apache.beam.sdk.io.WriteFiles$WriteShardsIntoTempFilesFn processElement\n",
            "INFO: Opening writer 4a4838b4-f9a3-44d0-969e-58187a62e24e for window org.apache.beam.sdk.transforms.windowing.GlobalWindow@1b1cfb87 pane PaneInfo{isFirst=true, isLast=true, timing=ON_TIME, index=0, onTimeIndex=0} destination null\n",
            "Dec 22, 2021 7:49:58 AM org.apache.beam.sdk.io.WriteFiles$WriteShardsIntoTempFilesFn processElement\n",
            "INFO: Opening writer 4c73080e-1654-46d0-87c2-955f2d523652 for window org.apache.beam.sdk.transforms.windowing.GlobalWindow@1b1cfb87 pane PaneInfo{isFirst=true, isLast=true, timing=ON_TIME, index=0, onTimeIndex=0} destination null\n",
            "Dec 22, 2021 7:49:58 AM org.apache.beam.sdk.io.FileBasedSink$Writer close\n",
            "INFO: Successfully wrote temporary file /content/outputs/.temp-beam-5f146f04-3bfa-41f0-8afb-d28fbf4c79d8/4a4838b4-f9a3-44d0-969e-58187a62e24e\n",
            "Dec 22, 2021 7:49:58 AM org.apache.beam.sdk.io.FileBasedSink$Writer close\n",
            "INFO: Successfully wrote temporary file /content/outputs/.temp-beam-5f146f04-3bfa-41f0-8afb-d28fbf4c79d8/76d8e2a6-f9da-4474-bfde-111ecd7df187\n",
            "Dec 22, 2021 7:49:58 AM org.apache.beam.sdk.io.FileBasedSink$Writer close\n",
            "INFO: Successfully wrote temporary file /content/outputs/.temp-beam-5f146f04-3bfa-41f0-8afb-d28fbf4c79d8/4c73080e-1654-46d0-87c2-955f2d523652\n",
            "Dec 22, 2021 7:49:58 AM org.apache.beam.sdk.io.WriteFiles$FinalizeTempFileBundles$FinalizeFn process\n",
            "INFO: Finalizing 3 file results\n",
            "Dec 22, 2021 7:49:58 AM org.apache.beam.sdk.io.FileBasedSink$WriteOperation createMissingEmptyShards\n",
            "INFO: Finalizing for destination null num shards 3.\n",
            "Dec 22, 2021 7:49:58 AM org.apache.beam.sdk.io.FileBasedSink$WriteOperation moveToOutputFiles\n",
            "INFO: Will copy temporary file FileResult{tempFilename=/content/outputs/.temp-beam-5f146f04-3bfa-41f0-8afb-d28fbf4c79d8/4c73080e-1654-46d0-87c2-955f2d523652, shard=1, window=org.apache.beam.sdk.transforms.windowing.GlobalWindow@1b1cfb87, paneInfo=PaneInfo{isFirst=true, isLast=true, timing=ON_TIME, index=0, onTimeIndex=0}} to final location /content/outputs/part-00001-of-00003\n",
            "Dec 22, 2021 7:49:58 AM org.apache.beam.sdk.io.FileBasedSink$WriteOperation moveToOutputFiles\n",
            "INFO: Will copy temporary file FileResult{tempFilename=/content/outputs/.temp-beam-5f146f04-3bfa-41f0-8afb-d28fbf4c79d8/76d8e2a6-f9da-4474-bfde-111ecd7df187, shard=2, window=org.apache.beam.sdk.transforms.windowing.GlobalWindow@1b1cfb87, paneInfo=PaneInfo{isFirst=true, isLast=true, timing=ON_TIME, index=0, onTimeIndex=0}} to final location /content/outputs/part-00002-of-00003\n",
            "Dec 22, 2021 7:49:58 AM org.apache.beam.sdk.io.FileBasedSink$WriteOperation moveToOutputFiles\n",
            "INFO: Will copy temporary file FileResult{tempFilename=/content/outputs/.temp-beam-5f146f04-3bfa-41f0-8afb-d28fbf4c79d8/4a4838b4-f9a3-44d0-969e-58187a62e24e, shard=0, window=org.apache.beam.sdk.transforms.windowing.GlobalWindow@1b1cfb87, paneInfo=PaneInfo{isFirst=true, isLast=true, timing=ON_TIME, index=0, onTimeIndex=0}} to final location /content/outputs/part-00000-of-00003\n",
            "Dec 22, 2021 7:49:58 AM org.apache.beam.sdk.io.FileBasedSink$WriteOperation removeTemporaryFiles\n",
            "WARNING: Failed to match temporary files under: [/content/outputs/.temp-beam-5f146f04-3bfa-41f0-8afb-d28fbf4c79d8/].\n",
            "\n",
            ">> head -n 20 outputs/part-00000-of-*\n",
            "==> outputs/part-00000-of-00003 <==\n",
            "Welcome: 2\n",
            "weep: 9\n",
            "warrant: 2\n",
            "clothes: 2\n",
            "FRANCE: 10\n",
            "plight: 2\n",
            "frowning: 1\n",
            "embossed: 1\n",
            "half: 12\n",
            "idle: 3\n",
            "legs: 4\n",
            "tyrannous: 1\n",
            "argument: 1\n",
            "left: 8\n",
            "cliff: 2\n",
            "hang: 3\n",
            "object: 3\n",
            "a: 366\n",
            "imperfect: 2\n",
            "address: 1\n",
            "\n",
            "==> outputs/part-00000-of-00004 <==\n",
            "dishonour: 1\n",
            "bluntness: 1\n",
            "destroy: 1\n",
            "teem: 1\n",
            "Could: 2\n",
            "required: 1\n",
            "inheriting: 1\n",
            "pant: 1\n",
            "bide: 1\n",
            "redress: 1\n",
            "flowers: 2\n",
            "comest: 1\n",
            "adversary: 2\n",
            "contemplation: 1\n",
            "Yields: 1\n",
            "quick: 2\n",
            "door: 3\n",
            "Yours: 1\n",
            "outlaw: 1\n",
            "Trumpets: 1\n",
            "\n"
          ]
        }
      ]
    },
    {
      "metadata": {
        "id": "k-HubCrk-h_G"
      },
      "cell_type": "markdown",
      "source": [
        "# Word count with comments\n",
        "\n",
        "Below is mostly the same code as above, but with comments explaining every line in more detail."
      ]
    },
    {
      "metadata": {
        "id": "wvnWyYklCXer",
        "outputId": "5bcdf997-482a-4848-b13a-0cc3ac7607fb",
        "colab": {
          "base_uri": "https://localhost:8080/"
        }
      },
      "cell_type": "code",
      "source": [
        "%%writefile src/main/java/samples/quickstart/WordCount.java\n",
        "\n",
        "package samples.quickstart;\n",
        "\n",
        "import org.apache.beam.sdk.Pipeline;\n",
        "import org.apache.beam.sdk.io.TextIO;\n",
        "import org.apache.beam.sdk.options.PipelineOptions;\n",
        "import org.apache.beam.sdk.options.PipelineOptionsFactory;\n",
        "import org.apache.beam.sdk.transforms.Count;\n",
        "import org.apache.beam.sdk.transforms.Filter;\n",
        "import org.apache.beam.sdk.transforms.FlatMapElements;\n",
        "import org.apache.beam.sdk.transforms.MapElements;\n",
        "import org.apache.beam.sdk.values.KV;\n",
        "import org.apache.beam.sdk.values.PCollection;\n",
        "import org.apache.beam.sdk.values.TypeDescriptors;\n",
        "\n",
        "import java.util.Arrays;\n",
        "\n",
        "public class WordCount {\n",
        "  public static void main(String[] args) {\n",
        "    String inputsDir = \"data/*\";\n",
        "    String outputsPrefix = \"outputs/part\";\n",
        "\n",
        "    PipelineOptions options = PipelineOptionsFactory.fromArgs(args).create();\n",
        "    Pipeline pipeline = Pipeline.create(options);\n",
        "\n",
        "    // Store the word counts in a PCollection.\n",
        "    // Each element is a KeyValue of (word, count) of types KV<String, Long>.\n",
        "    PCollection<KV<String, Long>> wordCounts =\n",
        "        // The input PCollection is an empty pipeline.\n",
        "        pipeline\n",
        "\n",
        "        // Read lines from a text file.\n",
        "        .apply(\"Read lines\", TextIO.read().from(inputsDir))\n",
        "        // Element type: String - text line\n",
        "\n",
        "        // Use a regular expression to iterate over all words in the line.\n",
        "        // FlatMapElements will yield an element for every element in an iterable.\n",
        "        .apply(\"Find words\", FlatMapElements.into(TypeDescriptors.strings())\n",
        "            .via((String line) -> Arrays.asList(line.split(\"[^\\\\p{L}]+\"))))\n",
        "        // Element type: String - word\n",
        "\n",
        "        // Keep only non-empty words.\n",
        "        .apply(\"Filter empty words\", Filter.by((String word) -> !word.isEmpty()))\n",
        "        // Element type: String - word\n",
        "\n",
        "        // Count each unique word.\n",
        "        .apply(\"Count words\", Count.perElement());\n",
        "        // Element type: KV<String, Long> - key: word, value: counts\n",
        "\n",
        "    // We can process a PCollection through other pipelines, too.\n",
        "    // The input PCollection are the wordCounts from the previous step.\n",
        "    wordCounts\n",
        "        // Format the results into a string so we can write them to a file.\n",
        "        .apply(\"Write results\", MapElements.into(TypeDescriptors.strings())\n",
        "            .via((KV<String, Long> wordCount) ->\n",
        "                  wordCount.getKey() + \": \" + wordCount.getValue()))\n",
        "        // Element type: str - text line\n",
        "\n",
        "        // Finally, write the results to a file.\n",
        "        .apply(TextIO.write().to(outputsPrefix));\n",
        "\n",
        "    // We have to explicitly run the pipeline, otherwise it's only a definition.\n",
        "    pipeline.run();\n",
        "  }\n",
        "}"
      ],
      "execution_count": 10,
      "outputs": [
        {
          "output_type": "stream",
          "name": "stdout",
          "text": [
            "Overwriting src/main/java/samples/quickstart/WordCount.java\n"
          ]
        }
      ]
    },
    {
      "metadata": {
        "id": "wKAJp7ON4Vpp",
        "outputId": "24db3453-0677-47d5-a3c4-0b0174ebe204",
        "colab": {
          "base_uri": "https://localhost:8080/"
        }
      },
      "cell_type": "code",
      "source": [
        "# Build and run the project. The 'runShadow' task implicitly does a 'build'.\n",
        "gradle('runShadow')\n",
        "\n",
        "# Sample the first 20 results, remember there are no ordering guarantees.\n",
        "run('head -n 20 outputs/part-00000-of-*')"
      ],
      "execution_count": null,
      "outputs": [
        {
          "output_type": "stream",
          "name": "stdout",
          "text": [
            ">> /opt/gradle-5.0/bin/gradle --console=plain runShadow\n",
            "\u001b[m> Task :compileJava\n",
            "> Task :processResources NO-SOURCE\n",
            "> Task :classes\n",
            "> Task :shadowJar\n",
            "> Task :startShadowScripts\n",
            "> Task :installShadowDist\n",
            "\n",
            "> Task :runShadow\n",
            "Dec 22, 2021 8:40:58 AM org.apache.beam.sdk.io.FileBasedSource getEstimatedSizeBytes\n",
            "INFO: Filepattern data/* matched 1 files with total size 157283\n",
            "Dec 22, 2021 8:40:58 AM org.apache.beam.sdk.io.FileBasedSource split\n",
            "INFO: Splitting filepattern data/* into bundles of size 52427 took 3 ms and produced 1 files and 3 bundles\n"
          ]
        }
      ]
    }
  ]
}